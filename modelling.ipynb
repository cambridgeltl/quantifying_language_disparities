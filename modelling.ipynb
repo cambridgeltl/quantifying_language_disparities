{
 "cells": [
  {
   "cell_type": "code",
   "execution_count": null,
   "id": "4ea97e12",
   "metadata": {},
   "outputs": [],
   "source": [
    "import pandas as pd\n",
    "import numpy as np\n",
    "import statsmodels.formula.api as smf\n",
    "\n",
    "# Example input (JSON entry in model_performance_record_list.json)\n",
    "# [\n",
    "#   {\"Model\": \"gpt-3.5-turbo\", \"Language\": \"en\", \"Score\": 97.8, \"Dataset\": \"xcopa\", \"Metric\": \"accuracy\"},\n",
    "#   ...\n",
    "# ]\n",
    "\n",
    "# df = pd.read_json(\"model_performance_record_list.json\")\n",
    "\n",
    "df = pd.read_json(\"./model_performance_record_list.json\")\n",
    "df = df[df[\"Language\"] != \"avg\"]\n",
    "\n",
    "df[\"Setup\"] = df[\"Dataset\"] + \"_\" + df[\"Metric\"]\n",
    "for col in [\"Language\", \"Setup\", \"Model\"]:\n",
    "    df[col] = df[col].astype(\"category\")\n",
    "\n",
    "md = smf.mixedlm(\"Score ~ C(Language) + C(Setup)\", df, groups=df[\"Model\"], re_formula=\"~1\")\n",
    "mdf = md.fit(method=\"lbfgs\", reml=False)\n",
    "\n",
    "intercept = mdf.params[\"Intercept\"]\n",
    "language_effect = mdf.params.filter(like=\"C(Language)\").to_dict()\n",
    "setup_effect = mdf.params.filter(like=\"C(Setup)\").to_dict()\n",
    "mean_setup_effect = np.mean(list(setup_effect.values()))\n",
    "\n",
    "def beta_lang(lang): return language_effect.get(f\"C(Language)[T.{lang}]\", 0.0)\n",
    "def beta_setup(setup): return setup_effect.get(f\"C(Setup)[T.{setup}]\", 0.0)\n",
    "\n",
    "lang_setup_potential = {\n",
    "    (lang, stp): intercept + beta_lang(lang) + beta_setup(stp)\n",
    "    for (lang, stp) in df[[\"Language\", \"Setup\"]].drop_duplicates().itertuples(index=False)\n",
    "}\n",
    "df[\"Potential\"] = df.apply(lambda r: lang_setup_potential[(r.Language, r.Setup)], axis=1)\n",
    "\n",
    "language_potential = {\n",
    "    lang: intercept + beta_lang(lang) + mean_setup_effect\n",
    "    for lang in df[\"Language\"].cat.categories\n",
    "}\n",
    "language_df = (\n",
    "    pd.DataFrame(language_potential.items(), columns=[\"Language\", \"Potential\"])\n",
    "      .sort_values(\"Potential\", ascending=False)\n",
    ")\n",
    "\n",
    "df[\"PRR\"] = df[\"Score\"].astype(float) / df[\"Potential\"]\n",
    "\n",
    "model_evaluation = df.groupby(\"Model\")[\"PRR\"].agg(mean_prr=\"mean\", std_prr=\"std\").assign(\n",
    "    cv_prr=lambda x: x[\"std_prr\"] / x[\"mean_prr\"]\n",
    ").reset_index()\n",
    "\n",
    "print(\"Language Potential\")\n",
    "print(language_df.to_string(index=False))\n",
    "\n",
    "print(\"Model-level Evaluation\")\n",
    "print(model_evaluation.to_string(index=False))\n"
   ]
  },
  {
   "cell_type": "code",
   "execution_count": null,
   "id": "db22b034",
   "metadata": {},
   "outputs": [],
   "source": []
  }
 ],
 "metadata": {
  "kernelspec": {
   "display_name": "Python 3 (ipykernel)",
   "language": "python",
   "name": "python3"
  },
  "language_info": {
   "codemirror_mode": {
    "name": "ipython",
    "version": 3
   },
   "file_extension": ".py",
   "mimetype": "text/x-python",
   "name": "python",
   "nbconvert_exporter": "python",
   "pygments_lexer": "ipython3",
   "version": "3.8.19"
  }
 },
 "nbformat": 4,
 "nbformat_minor": 5
}